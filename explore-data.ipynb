{
 "cells": [
  {
   "cell_type": "code",
   "execution_count": 21,
   "metadata": {},
   "outputs": [],
   "source": [
    "import numpy as np\n",
    "import pandas as pd\n",
    "import missingno as msno\n",
    "import matplotlib.pyplot as plt"
   ]
  },
  {
   "cell_type": "markdown",
   "metadata": {},
   "source": [
    "### Import Dataset\n",
    "Dataset use of a different encoding (forware slashes), therefore I use latin1 encoding"
   ]
  },
  {
   "cell_type": "code",
   "execution_count": 22,
   "metadata": {
    "scrolled": true
   },
   "outputs": [
    {
     "data": {
      "text/html": [
       "<div>\n",
       "<style scoped>\n",
       "    .dataframe tbody tr th:only-of-type {\n",
       "        vertical-align: middle;\n",
       "    }\n",
       "\n",
       "    .dataframe tbody tr th {\n",
       "        vertical-align: top;\n",
       "    }\n",
       "\n",
       "    .dataframe thead th {\n",
       "        text-align: right;\n",
       "    }\n",
       "</style>\n",
       "<table border=\"1\" class=\"dataframe\">\n",
       "  <thead>\n",
       "    <tr style=\"text-align: right;\">\n",
       "      <th></th>\n",
       "      <th>Name</th>\n",
       "      <th>URL</th>\n",
       "      <th>Style</th>\n",
       "      <th>StyleID</th>\n",
       "      <th>Size(L)</th>\n",
       "      <th>OG</th>\n",
       "      <th>FG</th>\n",
       "      <th>ABV</th>\n",
       "      <th>IBU</th>\n",
       "      <th>Color</th>\n",
       "      <th>...</th>\n",
       "      <th>BoilGravity</th>\n",
       "      <th>Efficiency</th>\n",
       "      <th>MashThickness</th>\n",
       "      <th>SugarScale</th>\n",
       "      <th>BrewMethod</th>\n",
       "      <th>PitchRate</th>\n",
       "      <th>PrimaryTemp</th>\n",
       "      <th>PrimingMethod</th>\n",
       "      <th>PrimingAmount</th>\n",
       "      <th>UserId</th>\n",
       "    </tr>\n",
       "    <tr>\n",
       "      <th>BeerID</th>\n",
       "      <th></th>\n",
       "      <th></th>\n",
       "      <th></th>\n",
       "      <th></th>\n",
       "      <th></th>\n",
       "      <th></th>\n",
       "      <th></th>\n",
       "      <th></th>\n",
       "      <th></th>\n",
       "      <th></th>\n",
       "      <th></th>\n",
       "      <th></th>\n",
       "      <th></th>\n",
       "      <th></th>\n",
       "      <th></th>\n",
       "      <th></th>\n",
       "      <th></th>\n",
       "      <th></th>\n",
       "      <th></th>\n",
       "      <th></th>\n",
       "      <th></th>\n",
       "    </tr>\n",
       "  </thead>\n",
       "  <tbody>\n",
       "    <tr>\n",
       "      <th>1</th>\n",
       "      <td>Vanilla Cream Ale</td>\n",
       "      <td>/homebrew/recipe/view/1633/vanilla-cream-ale</td>\n",
       "      <td>Cream Ale</td>\n",
       "      <td>45</td>\n",
       "      <td>21.77</td>\n",
       "      <td>1.055</td>\n",
       "      <td>1.013</td>\n",
       "      <td>5.48</td>\n",
       "      <td>17.65</td>\n",
       "      <td>4.83</td>\n",
       "      <td>...</td>\n",
       "      <td>1.038</td>\n",
       "      <td>70.0</td>\n",
       "      <td>NaN</td>\n",
       "      <td>Specific Gravity</td>\n",
       "      <td>All Grain</td>\n",
       "      <td>NaN</td>\n",
       "      <td>17.78</td>\n",
       "      <td>corn sugar</td>\n",
       "      <td>4.5 oz</td>\n",
       "      <td>116.0</td>\n",
       "    </tr>\n",
       "    <tr>\n",
       "      <th>2</th>\n",
       "      <td>Southern Tier Pumking clone</td>\n",
       "      <td>/homebrew/recipe/view/16367/southern-tier-pumk...</td>\n",
       "      <td>Holiday/Winter Special Spiced Beer</td>\n",
       "      <td>85</td>\n",
       "      <td>20.82</td>\n",
       "      <td>1.083</td>\n",
       "      <td>1.021</td>\n",
       "      <td>8.16</td>\n",
       "      <td>60.65</td>\n",
       "      <td>15.64</td>\n",
       "      <td>...</td>\n",
       "      <td>1.070</td>\n",
       "      <td>70.0</td>\n",
       "      <td>NaN</td>\n",
       "      <td>Specific Gravity</td>\n",
       "      <td>All Grain</td>\n",
       "      <td>NaN</td>\n",
       "      <td>NaN</td>\n",
       "      <td>NaN</td>\n",
       "      <td>NaN</td>\n",
       "      <td>955.0</td>\n",
       "    </tr>\n",
       "    <tr>\n",
       "      <th>3</th>\n",
       "      <td>Zombie Dust Clone - EXTRACT</td>\n",
       "      <td>/homebrew/recipe/view/5920/zombie-dust-clone-e...</td>\n",
       "      <td>American IPA</td>\n",
       "      <td>7</td>\n",
       "      <td>18.93</td>\n",
       "      <td>1.063</td>\n",
       "      <td>1.018</td>\n",
       "      <td>5.91</td>\n",
       "      <td>59.25</td>\n",
       "      <td>8.98</td>\n",
       "      <td>...</td>\n",
       "      <td>NaN</td>\n",
       "      <td>70.0</td>\n",
       "      <td>NaN</td>\n",
       "      <td>Specific Gravity</td>\n",
       "      <td>extract</td>\n",
       "      <td>NaN</td>\n",
       "      <td>NaN</td>\n",
       "      <td>NaN</td>\n",
       "      <td>NaN</td>\n",
       "      <td>NaN</td>\n",
       "    </tr>\n",
       "    <tr>\n",
       "      <th>4</th>\n",
       "      <td>Zombie Dust Clone - ALL GRAIN</td>\n",
       "      <td>/homebrew/recipe/view/5916/zombie-dust-clone-a...</td>\n",
       "      <td>American IPA</td>\n",
       "      <td>7</td>\n",
       "      <td>22.71</td>\n",
       "      <td>1.061</td>\n",
       "      <td>1.017</td>\n",
       "      <td>5.80</td>\n",
       "      <td>54.48</td>\n",
       "      <td>8.50</td>\n",
       "      <td>...</td>\n",
       "      <td>NaN</td>\n",
       "      <td>70.0</td>\n",
       "      <td>NaN</td>\n",
       "      <td>Specific Gravity</td>\n",
       "      <td>All Grain</td>\n",
       "      <td>NaN</td>\n",
       "      <td>NaN</td>\n",
       "      <td>NaN</td>\n",
       "      <td>NaN</td>\n",
       "      <td>NaN</td>\n",
       "    </tr>\n",
       "    <tr>\n",
       "      <th>5</th>\n",
       "      <td>Bakke Brygg Belgisk Blonde 50 l</td>\n",
       "      <td>/homebrew/recipe/view/89534/bakke-brygg-belgis...</td>\n",
       "      <td>Belgian Blond Ale</td>\n",
       "      <td>20</td>\n",
       "      <td>50.00</td>\n",
       "      <td>1.060</td>\n",
       "      <td>1.010</td>\n",
       "      <td>6.48</td>\n",
       "      <td>17.84</td>\n",
       "      <td>4.57</td>\n",
       "      <td>...</td>\n",
       "      <td>1.050</td>\n",
       "      <td>72.0</td>\n",
       "      <td>NaN</td>\n",
       "      <td>Specific Gravity</td>\n",
       "      <td>All Grain</td>\n",
       "      <td>NaN</td>\n",
       "      <td>19.00</td>\n",
       "      <td>Sukkerlake</td>\n",
       "      <td>6-7 g sukker/l</td>\n",
       "      <td>18325.0</td>\n",
       "    </tr>\n",
       "  </tbody>\n",
       "</table>\n",
       "<p>5 rows × 22 columns</p>\n",
       "</div>"
      ],
      "text/plain": [
       "                                   Name  \\\n",
       "BeerID                                    \n",
       "1                     Vanilla Cream Ale   \n",
       "2           Southern Tier Pumking clone   \n",
       "3           Zombie Dust Clone - EXTRACT   \n",
       "4         Zombie Dust Clone - ALL GRAIN   \n",
       "5       Bakke Brygg Belgisk Blonde 50 l   \n",
       "\n",
       "                                                      URL  \\\n",
       "BeerID                                                      \n",
       "1            /homebrew/recipe/view/1633/vanilla-cream-ale   \n",
       "2       /homebrew/recipe/view/16367/southern-tier-pumk...   \n",
       "3       /homebrew/recipe/view/5920/zombie-dust-clone-e...   \n",
       "4       /homebrew/recipe/view/5916/zombie-dust-clone-a...   \n",
       "5       /homebrew/recipe/view/89534/bakke-brygg-belgis...   \n",
       "\n",
       "                                     Style  StyleID  Size(L)     OG     FG  \\\n",
       "BeerID                                                                       \n",
       "1                                Cream Ale       45    21.77  1.055  1.013   \n",
       "2       Holiday/Winter Special Spiced Beer       85    20.82  1.083  1.021   \n",
       "3                             American IPA        7    18.93  1.063  1.018   \n",
       "4                             American IPA        7    22.71  1.061  1.017   \n",
       "5                        Belgian Blond Ale       20    50.00  1.060  1.010   \n",
       "\n",
       "         ABV    IBU  Color   ...     BoilGravity  Efficiency  MashThickness  \\\n",
       "BeerID                       ...                                              \n",
       "1       5.48  17.65   4.83   ...           1.038        70.0            NaN   \n",
       "2       8.16  60.65  15.64   ...           1.070        70.0            NaN   \n",
       "3       5.91  59.25   8.98   ...             NaN        70.0            NaN   \n",
       "4       5.80  54.48   8.50   ...             NaN        70.0            NaN   \n",
       "5       6.48  17.84   4.57   ...           1.050        72.0            NaN   \n",
       "\n",
       "              SugarScale  BrewMethod PitchRate PrimaryTemp  PrimingMethod  \\\n",
       "BeerID                                                                      \n",
       "1       Specific Gravity   All Grain       NaN       17.78     corn sugar   \n",
       "2       Specific Gravity   All Grain       NaN         NaN            NaN   \n",
       "3       Specific Gravity     extract       NaN         NaN            NaN   \n",
       "4       Specific Gravity   All Grain       NaN         NaN            NaN   \n",
       "5       Specific Gravity   All Grain       NaN       19.00     Sukkerlake   \n",
       "\n",
       "         PrimingAmount   UserId  \n",
       "BeerID                           \n",
       "1               4.5 oz    116.0  \n",
       "2                  NaN    955.0  \n",
       "3                  NaN      NaN  \n",
       "4                  NaN      NaN  \n",
       "5       6-7 g sukker/l  18325.0  \n",
       "\n",
       "[5 rows x 22 columns]"
      ]
     },
     "execution_count": 22,
     "metadata": {},
     "output_type": "execute_result"
    }
   ],
   "source": [
    "beer_recipe = pd.read_csv('./data/recipeData.csv', index_col='BeerID', encoding='latin1')\n",
    "beer_recipe.head()"
   ]
  },
  {
   "cell_type": "code",
   "execution_count": 23,
   "metadata": {},
   "outputs": [
    {
     "name": "stdout",
     "output_type": "stream",
     "text": [
      "Index(['Name', 'URL', 'Style', 'StyleID', 'Size(L)', 'OG', 'FG', 'ABV', 'IBU',\n",
      "       'Color', 'BoilSize', 'BoilTime', 'BoilGravity', 'Efficiency',\n",
      "       'MashThickness', 'SugarScale', 'BrewMethod', 'PitchRate', 'PrimaryTemp',\n",
      "       'PrimingMethod', 'PrimingAmount', 'UserId'],\n",
      "      dtype='object')\n"
     ]
    }
   ],
   "source": [
    "print(beer_recipe.columns)"
   ]
  },
  {
   "cell_type": "code",
   "execution_count": 24,
   "metadata": {},
   "outputs": [
    {
     "name": "stdout",
     "output_type": "stream",
     "text": [
      "<class 'pandas.core.frame.DataFrame'>\n",
      "Int64Index: 73861 entries, 1 to 73861\n",
      "Columns: 22 entries, Name to UserId\n",
      "dtypes: float64(13), int64(2), object(7)\n",
      "memory usage: 13.0+ MB\n",
      "None\n"
     ]
    }
   ],
   "source": [
    "print(beer_recipe.info(verbose=False))"
   ]
  },
  {
   "cell_type": "markdown",
   "metadata": {},
   "source": [
    "### Explore Missing Values"
   ]
  },
  {
   "cell_type": "code",
   "execution_count": 25,
   "metadata": {},
   "outputs": [
    {
     "data": {
      "text/plain": [
       "<matplotlib.axes._subplots.AxesSubplot at 0x23620159ac8>"
      ]
     },
     "execution_count": 25,
     "metadata": {},
     "output_type": "execute_result"
    },
    {
     "data": {
      "image/png": "[encoded data removed]",
      "text/plain": [
       "<Figure size 1800x720 with 2 Axes>"
      ]
     },
     "metadata": {},
     "output_type": "display_data"
    }
   ],
   "source": [
    "%matplotlib inline\n",
    "msno.matrix(beer_recipe.sample(1000))"
   ]
  },
  {
   "cell_type": "code",
   "execution_count": 26,
   "metadata": {},
   "outputs": [
    {
     "name": "stdout",
     "output_type": "stream",
     "text": [
      "Name is null 0.0 % of the time\n",
      "URL is null 0.0 % of the time\n",
      "Style is null 1.0 % of the time\n",
      "StyleID is null 0.0 % of the time\n",
      "Size(L) is null 0.0 % of the time\n",
      "OG is null 0.0 % of the time\n",
      "FG is null 0.0 % of the time\n",
      "ABV is null 0.0 % of the time\n",
      "IBU is null 0.0 % of the time\n",
      "Color is null 0.0 % of the time\n",
      "BoilSize is null 0.0 % of the time\n",
      "BoilTime is null 0.0 % of the time\n",
      "BoilGravity is null 4.0 % of the time\n",
      "Efficiency is null 0.0 % of the time\n",
      "MashThickness is null 40.0 % of the time\n",
      "SugarScale is null 0.0 % of the time\n",
      "BrewMethod is null 0.0 % of the time\n",
      "PitchRate is null 53.0 % of the time\n",
      "PrimaryTemp is null 31.0 % of the time\n",
      "PrimingMethod is null 91.0 % of the time\n",
      "PrimingAmount is null 94.0 % of the time\n",
      "UserId is null 68.0 % of the time\n"
     ]
    }
   ],
   "source": [
    "for column in beer_recipe.columns:\n",
    "    nullCount = beer_recipe[column].isnull()\n",
    "    print('{} is null {} % of the time'.format(column, round((nullCount.sum() / len(beer_recipe)) * 100), 2))"
   ]
  },
  {
   "cell_type": "markdown",
   "metadata": {},
   "source": [
    "### Class Imbalance"
   ]
  },
  {
   "cell_type": "markdown",
   "metadata": {},
   "source": [
    "#### Style\n",
    "On the Brewers' Freiends website, the style is represented by two columns \n",
    "(Style name and Category).\n",
    "\n",
    "Forexample, style name American IPA has categories of IPA, and India Pale Ale(IPA). <br>\n",
    "Also, style name cream Ale has categories of Light Hybrid Beer and Standard American Beer.\n",
    "\n",
    "But style and category is not a subset of each other.<br>\n",
    "On the above category (IPA) have others style like Specialty IPA: Belgian IPA, ..."
   ]
  },
  {
   "cell_type": "markdown",
   "metadata": {},
   "source": [
    "* In these dataset, they collected only the style information"
   ]
  },
  {
   "cell_type": "code",
   "execution_count": 27,
   "metadata": {},
   "outputs": [
    {
     "name": "stdout",
     "output_type": "stream",
     "text": [
      "There are 175 different styles of beer\n",
      "There are 176 different styles ID of beer\n"
     ]
    }
   ],
   "source": [
    "print('There are {} different styles of beer'.format(beer_recipe.Style.nunique()))\n",
    "print('There are {} different styles ID of beer'.format(beer_recipe.StyleID.nunique()))"
   ]
  },
  {
   "cell_type": "markdown",
   "metadata": {},
   "source": [
    "* Style and StyleID are not matched, because StyleID have rows of nan at style field."
   ]
  },
  {
   "cell_type": "code",
   "execution_count": 28,
   "metadata": {},
   "outputs": [],
   "source": [
    "from math import isnan"
   ]
  },
  {
   "cell_type": "code",
   "execution_count": 29,
   "metadata": {},
   "outputs": [],
   "source": [
    "style_count = {}\n",
    "\n",
    "for style in beer_recipe.Style.unique():\n",
    "    if not isinstance(style, str) and isnan(style):\n",
    "        continue\n",
    "    style_count[style] = len(beer_recipe[beer_recipe['Style'] == style])"
   ]
  },
  {
   "cell_type": "code",
   "execution_count": 30,
   "metadata": {},
   "outputs": [
    {
     "data": {
      "text/plain": [
       "{'Cream Ale': 830,\n",
       " 'Holiday/Winter Special Spiced Beer': 331,\n",
       " 'American IPA': 11940,\n",
       " 'Belgian Blond Ale': 496,\n",
       " 'American Pale Ale': 7581,\n",
       " 'Imperial IPA': 1478,\n",
       " 'Robust Porter': 897,\n",
       " 'Bohemian Pilsener': 344,\n",
       " 'Saison': 2617,\n",
       " 'Northern English Brown': 284,\n",
       " 'English IPA': 784,\n",
       " 'Traditional Bock': 102,\n",
       " 'Premium American Lager': 108,\n",
       " 'Belgian Golden Strong Ale': 354,\n",
       " 'Double IPA': 864,\n",
       " 'Blonde Ale': 1753,\n",
       " 'Light American Lager': 72,\n",
       " 'German Pilsner (Pils)': 466,\n",
       " 'American Brown Ale': 1152,\n",
       " 'Oatmeal Stout': 961,\n",
       " 'Specialty Beer': 430,\n",
       " 'American Amber Ale': 2038,\n",
       " 'Kölsch': 869,\n",
       " 'Witbier': 1072,\n",
       " 'Weizen/Weissbier': 919,\n",
       " 'Trappist Single': 123,\n",
       " 'Russian Imperial Stout': 929,\n",
       " 'Specialty IPA: Black IPA': 638,\n",
       " 'Sweet Stout': 919,\n",
       " 'Strong Scotch Ale': 230,\n",
       " 'Belgian Tripel': 563,\n",
       " 'American Stout': 1268,\n",
       " 'Belgian Pale Ale': 625,\n",
       " 'Dark American Lager': 58,\n",
       " 'Dry Stout': 484,\n",
       " 'Belgian Dark Strong Ale': 538,\n",
       " 'American Wheat or Rye Beer': 571,\n",
       " 'Vienna Lager': 395,\n",
       " 'Special/Best/Premium Bitter': 356,\n",
       " 'Experimental Beer': 432,\n",
       " 'Irish Red Ale': 1204,\n",
       " 'Old Ale': 300,\n",
       " 'Extra Special/Strong Bitter (ESB)': 659,\n",
       " 'Winter Seasonal Beer': 155,\n",
       " 'Standard American Lager': 46,\n",
       " 'Wood-Aged Beer': 67,\n",
       " 'Fruit Beer': 502,\n",
       " 'British Golden Ale': 271,\n",
       " 'Flanders Red Ale': 145,\n",
       " 'Berliner Weisse': 395,\n",
       " 'Oktoberfest/Märzen': 364,\n",
       " 'Munich Helles': 340,\n",
       " 'Classic American Pilsner': 207,\n",
       " 'Gueuze': 63,\n",
       " 'Brown Porter': 438,\n",
       " 'American Light Lager': 2277,\n",
       " 'English Cider': 32,\n",
       " 'Fruit Cider': 22,\n",
       " 'Altbier': 137,\n",
       " 'Spice  Herb  or Vegetable Beer': 514,\n",
       " 'Southern English Brown': 103,\n",
       " 'Other Smoked Beer': 123,\n",
       " 'Belgian Dubbel': 530,\n",
       " 'Cyser (Apple Melomel)': 17,\n",
       " 'Metheglin': 14,\n",
       " 'Specialty IPA: Red IPA': 442,\n",
       " 'Belgian Specialty Ale': 422,\n",
       " 'Foreign Extra Stout': 360,\n",
       " 'Braggot': 93,\n",
       " 'Weizenbock': 203,\n",
       " 'International Pale Lager': 309,\n",
       " 'Common Cider': 92,\n",
       " 'Imperial Stout': 675,\n",
       " 'Strong Bitter': 481,\n",
       " 'Dusseldorf Altbier': 108,\n",
       " 'Bière de Garde': 181,\n",
       " 'Dunkelweizen': 196,\n",
       " 'Schwarzbier': 215,\n",
       " 'Baltic Porter': 344,\n",
       " 'Doppelbock': 237,\n",
       " 'American Barleywine': 341,\n",
       " 'Other Specialty Cider or Perry': 36,\n",
       " 'Specialty IPA: White IPA': 287,\n",
       " 'Mild': 276,\n",
       " 'California Common Beer': 1044,\n",
       " 'American Wheat Beer': 654,\n",
       " 'British Strong Ale': 195,\n",
       " 'Other Fruit Melomel': 63,\n",
       " 'Classic Rauchbier': 43,\n",
       " 'Märzen': 333,\n",
       " 'American Lager': 220,\n",
       " 'Wee Heavy': 145,\n",
       " 'Dry Mead': 81,\n",
       " 'British Brown Ale': 390,\n",
       " 'Weissbier': 988,\n",
       " 'Clone Beer': 139,\n",
       " 'Best Bitter': 391,\n",
       " 'Standard/Ordinary Bitter': 323,\n",
       " 'Czech Premium Pale Lager': 237,\n",
       " 'Mixed-Fermentation Sour Beer': 162,\n",
       " 'Scottish Heavy 70/-': 39,\n",
       " 'English Porter': 222,\n",
       " 'Czech Dark Lager': 35,\n",
       " 'Roggenbier (German Rye Beer)': 96,\n",
       " 'Gose': 147,\n",
       " 'Fruit Lambic': 77,\n",
       " 'Sweet Mead': 36,\n",
       " 'Australian Sparkling Ale': 49,\n",
       " 'Maibock/Helles Bock': 138,\n",
       " 'American Strong Ale': 227,\n",
       " 'Specialty IPA: Belgian IPA': 221,\n",
       " 'Mixed-Style Beer': 143,\n",
       " 'North German Altbier': 67,\n",
       " 'American Porter': 787,\n",
       " 'Dortmunder Export': 45,\n",
       " 'German Pils': 199,\n",
       " 'Irish Stout': 263,\n",
       " 'English Barleywine': 253,\n",
       " 'Specialty IPA: Rye IPA': 318,\n",
       " 'Scottish Export': 178,\n",
       " 'Scottish Export 80/-': 117,\n",
       " 'Tropical Stout': 31,\n",
       " 'Eisbock': 21,\n",
       " 'Semi-Sweet Mead': 46,\n",
       " 'French Cider': 2,\n",
       " 'Munich Dunkel': 260,\n",
       " 'Specialty Smoked Beer': 70,\n",
       " 'Open Category Mead': 17,\n",
       " 'Wild Specialty Beer': 40,\n",
       " 'Apple Wine': 6,\n",
       " 'Czech Pale Lager': 167,\n",
       " 'California Common': 155,\n",
       " 'Flanders Brown Ale/Oud Bruin': 51,\n",
       " 'International Amber Lager': 88,\n",
       " 'Alternative Grain Beer': 36,\n",
       " 'Scottish Light 60/-': 25,\n",
       " 'Helles Bock': 76,\n",
       " 'Lambic': 73,\n",
       " 'Pre-Prohibition Lager': 30,\n",
       " 'Ordinary Bitter': 271,\n",
       " 'Wheatwine': 41,\n",
       " 'Dunkles Weissbier': 202,\n",
       " 'Straight (Unblended) Lambic': 54,\n",
       " 'Kentucky Common': 30,\n",
       " 'New England Cider': 7,\n",
       " 'Pyment (Grape Melomel)': 5,\n",
       " 'Lichtenhainer': 6,\n",
       " 'Irish Extra Stout': 64,\n",
       " 'Rauchbier': 45,\n",
       " 'Specialty IPA: Brown IPA': 92,\n",
       " 'Kellerbier: Amber Kellerbier': 18,\n",
       " 'Sahti': 22,\n",
       " 'Oud Bruin': 31,\n",
       " 'Piwo Grodziskie': 15,\n",
       " 'Specialty Fruit Beer': 51,\n",
       " 'Alternative Sugar Beer': 21,\n",
       " 'Kellerbier: Pale Kellerbier': 17,\n",
       " 'Classic Style Smoked Beer': 64,\n",
       " 'Czech Amber Lager': 32,\n",
       " 'Scottish Heavy': 105,\n",
       " 'Traditional Perry': 2,\n",
       " 'Festbier': 62,\n",
       " 'Brett Beer': 63,\n",
       " 'Dark Mild': 240,\n",
       " 'London Brown Ale': 8,\n",
       " 'Fruit and Spice Beer': 36,\n",
       " 'German Helles Exportbier': 33,\n",
       " 'Autumn Seasonal Beer': 77,\n",
       " 'International Dark Lager': 36,\n",
       " 'Roggenbier': 32,\n",
       " 'Dunkles Bock': 44,\n",
       " 'German Leichtbier': 20,\n",
       " 'Scottish Light': 43,\n",
       " 'Pre-Prohibition Porter': 12,\n",
       " 'Specialty Wood-Aged Beer': 11}"
      ]
     },
     "execution_count": 30,
     "metadata": {},
     "output_type": "execute_result"
    }
   ],
   "source": [
    "style_count"
   ]
  },
  {
   "cell_type": "code",
   "execution_count": 31,
   "metadata": {},
   "outputs": [],
   "source": [
    "style_count_sorted = sorted(style_count.items(), key=lambda x: (-x[1], x[0]))"
   ]
  },
  {
   "cell_type": "code",
   "execution_count": 32,
   "metadata": {},
   "outputs": [
    {
     "data": {
      "text/plain": [
       "[('American IPA', 11940),\n",
       " ('American Pale Ale', 7581),\n",
       " ('Saison', 2617),\n",
       " ('American Light Lager', 2277),\n",
       " ('American Amber Ale', 2038),\n",
       " ('Blonde Ale', 1753),\n",
       " ('Imperial IPA', 1478),\n",
       " ('American Stout', 1268),\n",
       " ('Irish Red Ale', 1204),\n",
       " ('American Brown Ale', 1152),\n",
       " ('Witbier', 1072),\n",
       " ('California Common Beer', 1044),\n",
       " ('Weissbier', 988),\n",
       " ('Oatmeal Stout', 961),\n",
       " ('Russian Imperial Stout', 929),\n",
       " ('Sweet Stout', 919),\n",
       " ('Weizen/Weissbier', 919),\n",
       " ('Robust Porter', 897),\n",
       " ('Kölsch', 869),\n",
       " ('Double IPA', 864),\n",
       " ('Cream Ale', 830),\n",
       " ('American Porter', 787),\n",
       " ('English IPA', 784),\n",
       " ('Imperial Stout', 675),\n",
       " ('Extra Special/Strong Bitter (ESB)', 659),\n",
       " ('American Wheat Beer', 654),\n",
       " ('Specialty IPA: Black IPA', 638),\n",
       " ('Belgian Pale Ale', 625),\n",
       " ('American Wheat or Rye Beer', 571),\n",
       " ('Belgian Tripel', 563),\n",
       " ('Belgian Dark Strong Ale', 538),\n",
       " ('Belgian Dubbel', 530),\n",
       " ('Spice  Herb  or Vegetable Beer', 514),\n",
       " ('Fruit Beer', 502),\n",
       " ('Belgian Blond Ale', 496),\n",
       " ('Dry Stout', 484),\n",
       " ('Strong Bitter', 481),\n",
       " ('German Pilsner (Pils)', 466),\n",
       " ('Specialty IPA: Red IPA', 442),\n",
       " ('Brown Porter', 438),\n",
       " ('Experimental Beer', 432),\n",
       " ('Specialty Beer', 430),\n",
       " ('Belgian Specialty Ale', 422),\n",
       " ('Berliner Weisse', 395),\n",
       " ('Vienna Lager', 395),\n",
       " ('Best Bitter', 391),\n",
       " ('British Brown Ale', 390),\n",
       " ('Oktoberfest/Märzen', 364),\n",
       " ('Foreign Extra Stout', 360),\n",
       " ('Special/Best/Premium Bitter', 356),\n",
       " ('Belgian Golden Strong Ale', 354),\n",
       " ('Baltic Porter', 344),\n",
       " ('Bohemian Pilsener', 344),\n",
       " ('American Barleywine', 341),\n",
       " ('Munich Helles', 340),\n",
       " ('Märzen', 333),\n",
       " ('Holiday/Winter Special Spiced Beer', 331),\n",
       " ('Standard/Ordinary Bitter', 323),\n",
       " ('Specialty IPA: Rye IPA', 318),\n",
       " ('International Pale Lager', 309),\n",
       " ('Old Ale', 300),\n",
       " ('Specialty IPA: White IPA', 287),\n",
       " ('Northern English Brown', 284),\n",
       " ('Mild', 276),\n",
       " ('British Golden Ale', 271),\n",
       " ('Ordinary Bitter', 271),\n",
       " ('Irish Stout', 263),\n",
       " ('Munich Dunkel', 260),\n",
       " ('English Barleywine', 253),\n",
       " ('Dark Mild', 240),\n",
       " ('Czech Premium Pale Lager', 237),\n",
       " ('Doppelbock', 237),\n",
       " ('Strong Scotch Ale', 230),\n",
       " ('American Strong Ale', 227),\n",
       " ('English Porter', 222),\n",
       " ('Specialty IPA: Belgian IPA', 221),\n",
       " ('American Lager', 220),\n",
       " ('Schwarzbier', 215),\n",
       " ('Classic American Pilsner', 207),\n",
       " ('Weizenbock', 203),\n",
       " ('Dunkles Weissbier', 202),\n",
       " ('German Pils', 199),\n",
       " ('Dunkelweizen', 196),\n",
       " ('British Strong Ale', 195),\n",
       " ('Bière de Garde', 181),\n",
       " ('Scottish Export', 178),\n",
       " ('Czech Pale Lager', 167),\n",
       " ('Mixed-Fermentation Sour Beer', 162),\n",
       " ('California Common', 155),\n",
       " ('Winter Seasonal Beer', 155),\n",
       " ('Gose', 147),\n",
       " ('Flanders Red Ale', 145),\n",
       " ('Wee Heavy', 145),\n",
       " ('Mixed-Style Beer', 143),\n",
       " ('Clone Beer', 139),\n",
       " ('Maibock/Helles Bock', 138),\n",
       " ('Altbier', 137),\n",
       " ('Other Smoked Beer', 123),\n",
       " ('Trappist Single', 123),\n",
       " ('Scottish Export 80/-', 117),\n",
       " ('Dusseldorf Altbier', 108),\n",
       " ('Premium American Lager', 108),\n",
       " ('Scottish Heavy', 105),\n",
       " ('Southern English Brown', 103),\n",
       " ('Traditional Bock', 102),\n",
       " ('Roggenbier (German Rye Beer)', 96),\n",
       " ('Braggot', 93),\n",
       " ('Common Cider', 92),\n",
       " ('Specialty IPA: Brown IPA', 92),\n",
       " ('International Amber Lager', 88),\n",
       " ('Dry Mead', 81),\n",
       " ('Autumn Seasonal Beer', 77),\n",
       " ('Fruit Lambic', 77),\n",
       " ('Helles Bock', 76),\n",
       " ('Lambic', 73),\n",
       " ('Light American Lager', 72),\n",
       " ('Specialty Smoked Beer', 70),\n",
       " ('North German Altbier', 67),\n",
       " ('Wood-Aged Beer', 67),\n",
       " ('Classic Style Smoked Beer', 64),\n",
       " ('Irish Extra Stout', 64),\n",
       " ('Brett Beer', 63),\n",
       " ('Gueuze', 63),\n",
       " ('Other Fruit Melomel', 63),\n",
       " ('Festbier', 62),\n",
       " ('Dark American Lager', 58),\n",
       " ('Straight (Unblended) Lambic', 54),\n",
       " ('Flanders Brown Ale/Oud Bruin', 51),\n",
       " ('Specialty Fruit Beer', 51),\n",
       " ('Australian Sparkling Ale', 49),\n",
       " ('Semi-Sweet Mead', 46),\n",
       " ('Standard American Lager', 46),\n",
       " ('Dortmunder Export', 45),\n",
       " ('Rauchbier', 45),\n",
       " ('Dunkles Bock', 44),\n",
       " ('Classic Rauchbier', 43),\n",
       " ('Scottish Light', 43),\n",
       " ('Wheatwine', 41),\n",
       " ('Wild Specialty Beer', 40),\n",
       " ('Scottish Heavy 70/-', 39),\n",
       " ('Alternative Grain Beer', 36),\n",
       " ('Fruit and Spice Beer', 36),\n",
       " ('International Dark Lager', 36),\n",
       " ('Other Specialty Cider or Perry', 36),\n",
       " ('Sweet Mead', 36),\n",
       " ('Czech Dark Lager', 35),\n",
       " ('German Helles Exportbier', 33),\n",
       " ('Czech Amber Lager', 32),\n",
       " ('English Cider', 32),\n",
       " ('Roggenbier', 32),\n",
       " ('Oud Bruin', 31),\n",
       " ('Tropical Stout', 31),\n",
       " ('Kentucky Common', 30),\n",
       " ('Pre-Prohibition Lager', 30),\n",
       " ('Scottish Light 60/-', 25),\n",
       " ('Fruit Cider', 22),\n",
       " ('Sahti', 22),\n",
       " ('Alternative Sugar Beer', 21),\n",
       " ('Eisbock', 21),\n",
       " ('German Leichtbier', 20),\n",
       " ('Kellerbier: Amber Kellerbier', 18),\n",
       " ('Cyser (Apple Melomel)', 17),\n",
       " ('Kellerbier: Pale Kellerbier', 17),\n",
       " ('Open Category Mead', 17),\n",
       " ('Piwo Grodziskie', 15),\n",
       " ('Metheglin', 14),\n",
       " ('Pre-Prohibition Porter', 12),\n",
       " ('Specialty Wood-Aged Beer', 11),\n",
       " ('London Brown Ale', 8),\n",
       " ('New England Cider', 7),\n",
       " ('Apple Wine', 6),\n",
       " ('Lichtenhainer', 6),\n",
       " ('Pyment (Grape Melomel)', 5),\n",
       " ('French Cider', 2),\n",
       " ('Traditional Perry', 2)]"
      ]
     },
     "execution_count": 32,
     "metadata": {},
     "output_type": "execute_result"
    }
   ],
   "source": [
    "style_count_sorted"
   ]
  },
  {
   "cell_type": "markdown",
   "metadata": {},
   "source": [
    "#### Plot style count in descending order"
   ]
  },
  {
   "cell_type": "markdown",
   "metadata": {},
   "source": [
    "Plot whole styles to analyze distribution of the class imbalance"
   ]
  },
  {
   "cell_type": "code",
   "execution_count": 14,
   "metadata": {},
   "outputs": [
    {
     "data": {
      "image/png": "[encoded data removed]",
      "text/plain": [
       "<Figure size 432x288 with 1 Axes>"
      ]
     },
     "metadata": {},
     "output_type": "display_data"
    }
   ],
   "source": [
    "plt.plot([x for x in range(len(style_count))], [val[1] for val in style_count_sorted])\n",
    "plt.show()"
   ]
  },
  {
   "cell_type": "markdown",
   "metadata": {},
   "source": [
    "Plot top 50 number of styles to analyze distribution of the class imbalance"
   ]
  },
  {
   "cell_type": "code",
   "execution_count": 19,
   "metadata": {},
   "outputs": [
    {
     "data": {
      "image/png": "[encoded data removed]",
      "text/plain": [
       "<Figure size 432x288 with 1 Axes>"
      ]
     },
     "metadata": {},
     "output_type": "display_data"
    }
   ],
   "source": [
    "plt.plot([x for x in range(50)], [val[1] for val in style_count_sorted[:50]])\n",
    "plt.show()"
   ]
  },
  {
   "cell_type": "markdown",
   "metadata": {},
   "source": [
    "Plot top 30 number of styles to analyze distribution of the class imbalance"
   ]
  },
  {
   "cell_type": "code",
   "execution_count": 18,
   "metadata": {},
   "outputs": [
    {
     "data": {
      "image/png": "[encoded data removed]",
      "text/plain": [
       "<Figure size 432x288 with 1 Axes>"
      ]
     },
     "metadata": {},
     "output_type": "display_data"
    }
   ],
   "source": [
    "plt.plot([x for x in range(30)], [val[1] for val in style_count_sorted[:30]])\n",
    "plt.show()"
   ]
  },
  {
   "cell_type": "markdown",
   "metadata": {},
   "source": [
    "Plot top 10 number of styles to analyze distribution of the class imbalance"
   ]
  },
  {
   "cell_type": "code",
   "execution_count": 33,
   "metadata": {},
   "outputs": [
    {
     "data": {
      "image/png": "[encoded data removed]",
      "text/plain": [
       "<Figure size 432x288 with 1 Axes>"
      ]
     },
     "metadata": {},
     "output_type": "display_data"
    }
   ],
   "source": [
    "plt.plot([x for x in range(10)], [val[1] for val in style_count_sorted[:10]])\n",
    "plt.show()"
   ]
  },
  {
   "cell_type": "code",
   "execution_count": null,
   "metadata": {},
   "outputs": [],
   "source": []
  }
 ],
 "metadata": {
  "kernelspec": {
   "display_name": "Python 3",
   "language": "python",
   "name": "python3"
  },
  "language_info": {
   "codemirror_mode": {
    "name": "ipython",
    "version": 3
   },
   "file_extension": ".py",
   "mimetype": "text/x-python",
   "name": "python",
   "nbconvert_exporter": "python",
   "pygments_lexer": "ipython3",
   "version": "3.6.5"
  }
 },
 "nbformat": 4,
 "nbformat_minor": 2
}
